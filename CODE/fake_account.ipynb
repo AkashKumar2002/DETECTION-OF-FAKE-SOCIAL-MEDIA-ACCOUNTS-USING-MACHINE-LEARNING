{
 "cells": [
  {
   "cell_type": "code",
   "execution_count": 10,
   "metadata": {},
   "outputs": [],
   "source": [
    "import pandas as pd \n",
    "import numpy as np\n",
    "from pandas_profiling import ProfileReport\n",
    "from sklearn.model_selection import train_test_split\n",
    "from sklearn.linear_model import LogisticRegression\n",
    "from sklearn.ensemble import RandomForestClassifier\n",
    "from sklearn.tree import DecisionTreeClassifier"
   ]
  },
  {
   "cell_type": "code",
   "execution_count": 11,
   "metadata": {},
   "outputs": [],
   "source": [
    "data = pd.read_csv('data.csv')"
   ]
  },
  {
   "cell_type": "code",
   "execution_count": 12,
   "metadata": {},
   "outputs": [
    {
     "data": {
      "text/html": [
       "<div>\n",
       "<style scoped>\n",
       "    .dataframe tbody tr th:only-of-type {\n",
       "        vertical-align: middle;\n",
       "    }\n",
       "\n",
       "    .dataframe tbody tr th {\n",
       "        vertical-align: top;\n",
       "    }\n",
       "\n",
       "    .dataframe thead th {\n",
       "        text-align: right;\n",
       "    }\n",
       "</style>\n",
       "<table border=\"1\" class=\"dataframe\">\n",
       "  <thead>\n",
       "    <tr style=\"text-align: right;\">\n",
       "      <th></th>\n",
       "      <th>profile pic</th>\n",
       "      <th>nums/length username</th>\n",
       "      <th>fullname words</th>\n",
       "      <th>nums/length fullname</th>\n",
       "      <th>name==username</th>\n",
       "      <th>description length</th>\n",
       "      <th>external URL</th>\n",
       "      <th>private</th>\n",
       "      <th>#posts</th>\n",
       "      <th>#followers</th>\n",
       "      <th>#follows</th>\n",
       "      <th>fake</th>\n",
       "    </tr>\n",
       "  </thead>\n",
       "  <tbody>\n",
       "    <tr>\n",
       "      <th>0</th>\n",
       "      <td>1</td>\n",
       "      <td>0.27</td>\n",
       "      <td>0</td>\n",
       "      <td>0.0</td>\n",
       "      <td>0</td>\n",
       "      <td>53</td>\n",
       "      <td>0</td>\n",
       "      <td>0</td>\n",
       "      <td>32</td>\n",
       "      <td>1000</td>\n",
       "      <td>955</td>\n",
       "      <td>0</td>\n",
       "    </tr>\n",
       "    <tr>\n",
       "      <th>1</th>\n",
       "      <td>1</td>\n",
       "      <td>0.00</td>\n",
       "      <td>2</td>\n",
       "      <td>0.0</td>\n",
       "      <td>0</td>\n",
       "      <td>44</td>\n",
       "      <td>0</td>\n",
       "      <td>0</td>\n",
       "      <td>286</td>\n",
       "      <td>2740</td>\n",
       "      <td>533</td>\n",
       "      <td>0</td>\n",
       "    </tr>\n",
       "    <tr>\n",
       "      <th>2</th>\n",
       "      <td>1</td>\n",
       "      <td>0.10</td>\n",
       "      <td>2</td>\n",
       "      <td>0.0</td>\n",
       "      <td>0</td>\n",
       "      <td>0</td>\n",
       "      <td>0</td>\n",
       "      <td>1</td>\n",
       "      <td>13</td>\n",
       "      <td>159</td>\n",
       "      <td>98</td>\n",
       "      <td>0</td>\n",
       "    </tr>\n",
       "    <tr>\n",
       "      <th>3</th>\n",
       "      <td>1</td>\n",
       "      <td>0.00</td>\n",
       "      <td>1</td>\n",
       "      <td>0.0</td>\n",
       "      <td>0</td>\n",
       "      <td>82</td>\n",
       "      <td>0</td>\n",
       "      <td>0</td>\n",
       "      <td>679</td>\n",
       "      <td>414</td>\n",
       "      <td>651</td>\n",
       "      <td>0</td>\n",
       "    </tr>\n",
       "    <tr>\n",
       "      <th>4</th>\n",
       "      <td>1</td>\n",
       "      <td>0.00</td>\n",
       "      <td>2</td>\n",
       "      <td>0.0</td>\n",
       "      <td>0</td>\n",
       "      <td>0</td>\n",
       "      <td>0</td>\n",
       "      <td>1</td>\n",
       "      <td>6</td>\n",
       "      <td>151</td>\n",
       "      <td>126</td>\n",
       "      <td>0</td>\n",
       "    </tr>\n",
       "  </tbody>\n",
       "</table>\n",
       "</div>"
      ],
      "text/plain": [
       "   profile pic  nums/length username  fullname words  nums/length fullname  \\\n",
       "0            1                  0.27               0                   0.0   \n",
       "1            1                  0.00               2                   0.0   \n",
       "2            1                  0.10               2                   0.0   \n",
       "3            1                  0.00               1                   0.0   \n",
       "4            1                  0.00               2                   0.0   \n",
       "\n",
       "   name==username  description length  external URL  private  #posts  \\\n",
       "0               0                  53             0        0      32   \n",
       "1               0                  44             0        0     286   \n",
       "2               0                   0             0        1      13   \n",
       "3               0                  82             0        0     679   \n",
       "4               0                   0             0        1       6   \n",
       "\n",
       "   #followers  #follows  fake  \n",
       "0        1000       955     0  \n",
       "1        2740       533     0  \n",
       "2         159        98     0  \n",
       "3         414       651     0  \n",
       "4         151       126     0  "
      ]
     },
     "execution_count": 12,
     "metadata": {},
     "output_type": "execute_result"
    }
   ],
   "source": [
    "data.head()"
   ]
  },
  {
   "cell_type": "code",
   "execution_count": 13,
   "metadata": {},
   "outputs": [
    {
     "data": {
      "text/plain": [
       "(696, 12)"
      ]
     },
     "execution_count": 13,
     "metadata": {},
     "output_type": "execute_result"
    }
   ],
   "source": [
    "data.shape"
   ]
  },
  {
   "cell_type": "code",
   "execution_count": 14,
   "metadata": {},
   "outputs": [],
   "source": [
    "# profile = ProfileReport(data)\n",
    "# profile.to_file(output_file='fake.html')"
   ]
  },
  {
   "cell_type": "code",
   "execution_count": 15,
   "metadata": {},
   "outputs": [
    {
     "data": {
      "text/plain": [
       "1    348\n",
       "0    348\n",
       "Name: fake, dtype: int64"
      ]
     },
     "execution_count": 15,
     "metadata": {},
     "output_type": "execute_result"
    }
   ],
   "source": [
    "data['fake'].value_counts()"
   ]
  },
  {
   "cell_type": "code",
   "execution_count": 16,
   "metadata": {},
   "outputs": [
    {
     "data": {
      "text/plain": [
       "profile pic             0\n",
       "nums/length username    0\n",
       "fullname words          0\n",
       "nums/length fullname    0\n",
       "name==username          0\n",
       "description length      0\n",
       "external URL            0\n",
       "private                 0\n",
       "#posts                  0\n",
       "#followers              0\n",
       "#follows                0\n",
       "fake                    0\n",
       "dtype: int64"
      ]
     },
     "execution_count": 16,
     "metadata": {},
     "output_type": "execute_result"
    }
   ],
   "source": [
    "data.isnull().sum()"
   ]
  },
  {
   "cell_type": "code",
   "execution_count": 17,
   "metadata": {},
   "outputs": [],
   "source": [
    "x=data.iloc[:,:-1]\n",
    "y=data.iloc[:,-1]"
   ]
  },
  {
   "cell_type": "code",
   "execution_count": 18,
   "metadata": {},
   "outputs": [
    {
     "data": {
      "text/html": [
       "<div>\n",
       "<style scoped>\n",
       "    .dataframe tbody tr th:only-of-type {\n",
       "        vertical-align: middle;\n",
       "    }\n",
       "\n",
       "    .dataframe tbody tr th {\n",
       "        vertical-align: top;\n",
       "    }\n",
       "\n",
       "    .dataframe thead th {\n",
       "        text-align: right;\n",
       "    }\n",
       "</style>\n",
       "<table border=\"1\" class=\"dataframe\">\n",
       "  <thead>\n",
       "    <tr style=\"text-align: right;\">\n",
       "      <th></th>\n",
       "      <th>profile pic</th>\n",
       "      <th>nums/length username</th>\n",
       "      <th>fullname words</th>\n",
       "      <th>nums/length fullname</th>\n",
       "      <th>name==username</th>\n",
       "      <th>description length</th>\n",
       "      <th>external URL</th>\n",
       "      <th>private</th>\n",
       "      <th>#posts</th>\n",
       "      <th>#followers</th>\n",
       "      <th>#follows</th>\n",
       "    </tr>\n",
       "  </thead>\n",
       "  <tbody>\n",
       "    <tr>\n",
       "      <th>0</th>\n",
       "      <td>1</td>\n",
       "      <td>0.27</td>\n",
       "      <td>0</td>\n",
       "      <td>0.0</td>\n",
       "      <td>0</td>\n",
       "      <td>53</td>\n",
       "      <td>0</td>\n",
       "      <td>0</td>\n",
       "      <td>32</td>\n",
       "      <td>1000</td>\n",
       "      <td>955</td>\n",
       "    </tr>\n",
       "    <tr>\n",
       "      <th>1</th>\n",
       "      <td>1</td>\n",
       "      <td>0.00</td>\n",
       "      <td>2</td>\n",
       "      <td>0.0</td>\n",
       "      <td>0</td>\n",
       "      <td>44</td>\n",
       "      <td>0</td>\n",
       "      <td>0</td>\n",
       "      <td>286</td>\n",
       "      <td>2740</td>\n",
       "      <td>533</td>\n",
       "    </tr>\n",
       "    <tr>\n",
       "      <th>2</th>\n",
       "      <td>1</td>\n",
       "      <td>0.10</td>\n",
       "      <td>2</td>\n",
       "      <td>0.0</td>\n",
       "      <td>0</td>\n",
       "      <td>0</td>\n",
       "      <td>0</td>\n",
       "      <td>1</td>\n",
       "      <td>13</td>\n",
       "      <td>159</td>\n",
       "      <td>98</td>\n",
       "    </tr>\n",
       "    <tr>\n",
       "      <th>3</th>\n",
       "      <td>1</td>\n",
       "      <td>0.00</td>\n",
       "      <td>1</td>\n",
       "      <td>0.0</td>\n",
       "      <td>0</td>\n",
       "      <td>82</td>\n",
       "      <td>0</td>\n",
       "      <td>0</td>\n",
       "      <td>679</td>\n",
       "      <td>414</td>\n",
       "      <td>651</td>\n",
       "    </tr>\n",
       "    <tr>\n",
       "      <th>4</th>\n",
       "      <td>1</td>\n",
       "      <td>0.00</td>\n",
       "      <td>2</td>\n",
       "      <td>0.0</td>\n",
       "      <td>0</td>\n",
       "      <td>0</td>\n",
       "      <td>0</td>\n",
       "      <td>1</td>\n",
       "      <td>6</td>\n",
       "      <td>151</td>\n",
       "      <td>126</td>\n",
       "    </tr>\n",
       "    <tr>\n",
       "      <th>...</th>\n",
       "      <td>...</td>\n",
       "      <td>...</td>\n",
       "      <td>...</td>\n",
       "      <td>...</td>\n",
       "      <td>...</td>\n",
       "      <td>...</td>\n",
       "      <td>...</td>\n",
       "      <td>...</td>\n",
       "      <td>...</td>\n",
       "      <td>...</td>\n",
       "      <td>...</td>\n",
       "    </tr>\n",
       "    <tr>\n",
       "      <th>691</th>\n",
       "      <td>1</td>\n",
       "      <td>0.29</td>\n",
       "      <td>1</td>\n",
       "      <td>0.0</td>\n",
       "      <td>0</td>\n",
       "      <td>0</td>\n",
       "      <td>0</td>\n",
       "      <td>0</td>\n",
       "      <td>13</td>\n",
       "      <td>114</td>\n",
       "      <td>811</td>\n",
       "    </tr>\n",
       "    <tr>\n",
       "      <th>692</th>\n",
       "      <td>1</td>\n",
       "      <td>0.40</td>\n",
       "      <td>1</td>\n",
       "      <td>0.0</td>\n",
       "      <td>0</td>\n",
       "      <td>0</td>\n",
       "      <td>0</td>\n",
       "      <td>0</td>\n",
       "      <td>4</td>\n",
       "      <td>150</td>\n",
       "      <td>164</td>\n",
       "    </tr>\n",
       "    <tr>\n",
       "      <th>693</th>\n",
       "      <td>1</td>\n",
       "      <td>0.00</td>\n",
       "      <td>2</td>\n",
       "      <td>0.0</td>\n",
       "      <td>0</td>\n",
       "      <td>0</td>\n",
       "      <td>0</td>\n",
       "      <td>0</td>\n",
       "      <td>3</td>\n",
       "      <td>833</td>\n",
       "      <td>3572</td>\n",
       "    </tr>\n",
       "    <tr>\n",
       "      <th>694</th>\n",
       "      <td>0</td>\n",
       "      <td>0.17</td>\n",
       "      <td>1</td>\n",
       "      <td>0.0</td>\n",
       "      <td>0</td>\n",
       "      <td>0</td>\n",
       "      <td>0</td>\n",
       "      <td>0</td>\n",
       "      <td>1</td>\n",
       "      <td>219</td>\n",
       "      <td>1695</td>\n",
       "    </tr>\n",
       "    <tr>\n",
       "      <th>695</th>\n",
       "      <td>1</td>\n",
       "      <td>0.44</td>\n",
       "      <td>1</td>\n",
       "      <td>0.0</td>\n",
       "      <td>0</td>\n",
       "      <td>0</td>\n",
       "      <td>0</td>\n",
       "      <td>0</td>\n",
       "      <td>3</td>\n",
       "      <td>39</td>\n",
       "      <td>68</td>\n",
       "    </tr>\n",
       "  </tbody>\n",
       "</table>\n",
       "<p>696 rows × 11 columns</p>\n",
       "</div>"
      ],
      "text/plain": [
       "     profile pic  nums/length username  fullname words  nums/length fullname  \\\n",
       "0              1                  0.27               0                   0.0   \n",
       "1              1                  0.00               2                   0.0   \n",
       "2              1                  0.10               2                   0.0   \n",
       "3              1                  0.00               1                   0.0   \n",
       "4              1                  0.00               2                   0.0   \n",
       "..           ...                   ...             ...                   ...   \n",
       "691            1                  0.29               1                   0.0   \n",
       "692            1                  0.40               1                   0.0   \n",
       "693            1                  0.00               2                   0.0   \n",
       "694            0                  0.17               1                   0.0   \n",
       "695            1                  0.44               1                   0.0   \n",
       "\n",
       "     name==username  description length  external URL  private  #posts  \\\n",
       "0                 0                  53             0        0      32   \n",
       "1                 0                  44             0        0     286   \n",
       "2                 0                   0             0        1      13   \n",
       "3                 0                  82             0        0     679   \n",
       "4                 0                   0             0        1       6   \n",
       "..              ...                 ...           ...      ...     ...   \n",
       "691               0                   0             0        0      13   \n",
       "692               0                   0             0        0       4   \n",
       "693               0                   0             0        0       3   \n",
       "694               0                   0             0        0       1   \n",
       "695               0                   0             0        0       3   \n",
       "\n",
       "     #followers  #follows  \n",
       "0          1000       955  \n",
       "1          2740       533  \n",
       "2           159        98  \n",
       "3           414       651  \n",
       "4           151       126  \n",
       "..          ...       ...  \n",
       "691         114       811  \n",
       "692         150       164  \n",
       "693         833      3572  \n",
       "694         219      1695  \n",
       "695          39        68  \n",
       "\n",
       "[696 rows x 11 columns]"
      ]
     },
     "execution_count": 18,
     "metadata": {},
     "output_type": "execute_result"
    }
   ],
   "source": [
    "x"
   ]
  },
  {
   "cell_type": "code",
   "execution_count": 19,
   "metadata": {},
   "outputs": [
    {
     "data": {
      "text/plain": [
       "0      0\n",
       "1      0\n",
       "2      0\n",
       "3      0\n",
       "4      0\n",
       "      ..\n",
       "691    1\n",
       "692    1\n",
       "693    1\n",
       "694    1\n",
       "695    1\n",
       "Name: fake, Length: 696, dtype: int64"
      ]
     },
     "execution_count": 19,
     "metadata": {},
     "output_type": "execute_result"
    }
   ],
   "source": [
    "y"
   ]
  },
  {
   "cell_type": "code",
   "execution_count": 20,
   "metadata": {},
   "outputs": [],
   "source": [
    "x_train,x_test,y_train,y_test = train_test_split(x,y,test_size=0.3,stratify=y,random_state=42)"
   ]
  },
  {
   "cell_type": "code",
   "execution_count": 21,
   "metadata": {},
   "outputs": [
    {
     "data": {
      "text/html": [
       "<div>\n",
       "<style scoped>\n",
       "    .dataframe tbody tr th:only-of-type {\n",
       "        vertical-align: middle;\n",
       "    }\n",
       "\n",
       "    .dataframe tbody tr th {\n",
       "        vertical-align: top;\n",
       "    }\n",
       "\n",
       "    .dataframe thead th {\n",
       "        text-align: right;\n",
       "    }\n",
       "</style>\n",
       "<table border=\"1\" class=\"dataframe\">\n",
       "  <thead>\n",
       "    <tr style=\"text-align: right;\">\n",
       "      <th></th>\n",
       "      <th>profile pic</th>\n",
       "      <th>nums/length username</th>\n",
       "      <th>fullname words</th>\n",
       "      <th>nums/length fullname</th>\n",
       "      <th>name==username</th>\n",
       "      <th>description length</th>\n",
       "      <th>external URL</th>\n",
       "      <th>private</th>\n",
       "      <th>#posts</th>\n",
       "      <th>#followers</th>\n",
       "      <th>#follows</th>\n",
       "    </tr>\n",
       "  </thead>\n",
       "  <tbody>\n",
       "    <tr>\n",
       "      <th>116</th>\n",
       "      <td>1</td>\n",
       "      <td>0.00</td>\n",
       "      <td>1</td>\n",
       "      <td>0.00</td>\n",
       "      <td>0</td>\n",
       "      <td>0</td>\n",
       "      <td>0</td>\n",
       "      <td>0</td>\n",
       "      <td>114</td>\n",
       "      <td>490</td>\n",
       "      <td>1093</td>\n",
       "    </tr>\n",
       "    <tr>\n",
       "      <th>28</th>\n",
       "      <td>1</td>\n",
       "      <td>0.00</td>\n",
       "      <td>2</td>\n",
       "      <td>0.00</td>\n",
       "      <td>0</td>\n",
       "      <td>126</td>\n",
       "      <td>1</td>\n",
       "      <td>0</td>\n",
       "      <td>230</td>\n",
       "      <td>2284</td>\n",
       "      <td>130</td>\n",
       "    </tr>\n",
       "    <tr>\n",
       "      <th>137</th>\n",
       "      <td>1</td>\n",
       "      <td>0.00</td>\n",
       "      <td>2</td>\n",
       "      <td>0.00</td>\n",
       "      <td>0</td>\n",
       "      <td>0</td>\n",
       "      <td>1</td>\n",
       "      <td>1</td>\n",
       "      <td>1020</td>\n",
       "      <td>464</td>\n",
       "      <td>1039</td>\n",
       "    </tr>\n",
       "    <tr>\n",
       "      <th>557</th>\n",
       "      <td>1</td>\n",
       "      <td>0.43</td>\n",
       "      <td>1</td>\n",
       "      <td>0.43</td>\n",
       "      <td>0</td>\n",
       "      <td>0</td>\n",
       "      <td>0</td>\n",
       "      <td>0</td>\n",
       "      <td>0</td>\n",
       "      <td>72</td>\n",
       "      <td>434</td>\n",
       "    </tr>\n",
       "    <tr>\n",
       "      <th>26</th>\n",
       "      <td>1</td>\n",
       "      <td>0.00</td>\n",
       "      <td>6</td>\n",
       "      <td>0.00</td>\n",
       "      <td>0</td>\n",
       "      <td>0</td>\n",
       "      <td>0</td>\n",
       "      <td>1</td>\n",
       "      <td>17</td>\n",
       "      <td>536</td>\n",
       "      <td>665</td>\n",
       "    </tr>\n",
       "    <tr>\n",
       "      <th>...</th>\n",
       "      <td>...</td>\n",
       "      <td>...</td>\n",
       "      <td>...</td>\n",
       "      <td>...</td>\n",
       "      <td>...</td>\n",
       "      <td>...</td>\n",
       "      <td>...</td>\n",
       "      <td>...</td>\n",
       "      <td>...</td>\n",
       "      <td>...</td>\n",
       "      <td>...</td>\n",
       "    </tr>\n",
       "    <tr>\n",
       "      <th>277</th>\n",
       "      <td>1</td>\n",
       "      <td>0.30</td>\n",
       "      <td>2</td>\n",
       "      <td>0.00</td>\n",
       "      <td>0</td>\n",
       "      <td>26</td>\n",
       "      <td>0</td>\n",
       "      <td>1</td>\n",
       "      <td>241</td>\n",
       "      <td>1456</td>\n",
       "      <td>1200</td>\n",
       "    </tr>\n",
       "    <tr>\n",
       "      <th>513</th>\n",
       "      <td>0</td>\n",
       "      <td>0.14</td>\n",
       "      <td>1</td>\n",
       "      <td>0.00</td>\n",
       "      <td>0</td>\n",
       "      <td>0</td>\n",
       "      <td>0</td>\n",
       "      <td>0</td>\n",
       "      <td>0</td>\n",
       "      <td>49</td>\n",
       "      <td>2</td>\n",
       "    </tr>\n",
       "    <tr>\n",
       "      <th>127</th>\n",
       "      <td>1</td>\n",
       "      <td>0.00</td>\n",
       "      <td>1</td>\n",
       "      <td>0.00</td>\n",
       "      <td>0</td>\n",
       "      <td>0</td>\n",
       "      <td>0</td>\n",
       "      <td>1</td>\n",
       "      <td>571</td>\n",
       "      <td>765</td>\n",
       "      <td>424</td>\n",
       "    </tr>\n",
       "    <tr>\n",
       "      <th>352</th>\n",
       "      <td>0</td>\n",
       "      <td>0.00</td>\n",
       "      <td>1</td>\n",
       "      <td>0.00</td>\n",
       "      <td>0</td>\n",
       "      <td>0</td>\n",
       "      <td>0</td>\n",
       "      <td>0</td>\n",
       "      <td>0</td>\n",
       "      <td>51</td>\n",
       "      <td>41</td>\n",
       "    </tr>\n",
       "    <tr>\n",
       "      <th>465</th>\n",
       "      <td>0</td>\n",
       "      <td>0.58</td>\n",
       "      <td>1</td>\n",
       "      <td>0.00</td>\n",
       "      <td>0</td>\n",
       "      <td>0</td>\n",
       "      <td>0</td>\n",
       "      <td>0</td>\n",
       "      <td>0</td>\n",
       "      <td>49</td>\n",
       "      <td>22</td>\n",
       "    </tr>\n",
       "  </tbody>\n",
       "</table>\n",
       "<p>487 rows × 11 columns</p>\n",
       "</div>"
      ],
      "text/plain": [
       "     profile pic  nums/length username  fullname words  nums/length fullname  \\\n",
       "116            1                  0.00               1                  0.00   \n",
       "28             1                  0.00               2                  0.00   \n",
       "137            1                  0.00               2                  0.00   \n",
       "557            1                  0.43               1                  0.43   \n",
       "26             1                  0.00               6                  0.00   \n",
       "..           ...                   ...             ...                   ...   \n",
       "277            1                  0.30               2                  0.00   \n",
       "513            0                  0.14               1                  0.00   \n",
       "127            1                  0.00               1                  0.00   \n",
       "352            0                  0.00               1                  0.00   \n",
       "465            0                  0.58               1                  0.00   \n",
       "\n",
       "     name==username  description length  external URL  private  #posts  \\\n",
       "116               0                   0             0        0     114   \n",
       "28                0                 126             1        0     230   \n",
       "137               0                   0             1        1    1020   \n",
       "557               0                   0             0        0       0   \n",
       "26                0                   0             0        1      17   \n",
       "..              ...                 ...           ...      ...     ...   \n",
       "277               0                  26             0        1     241   \n",
       "513               0                   0             0        0       0   \n",
       "127               0                   0             0        1     571   \n",
       "352               0                   0             0        0       0   \n",
       "465               0                   0             0        0       0   \n",
       "\n",
       "     #followers  #follows  \n",
       "116         490      1093  \n",
       "28         2284       130  \n",
       "137         464      1039  \n",
       "557          72       434  \n",
       "26          536       665  \n",
       "..          ...       ...  \n",
       "277        1456      1200  \n",
       "513          49         2  \n",
       "127         765       424  \n",
       "352          51        41  \n",
       "465          49        22  \n",
       "\n",
       "[487 rows x 11 columns]"
      ]
     },
     "execution_count": 21,
     "metadata": {},
     "output_type": "execute_result"
    }
   ],
   "source": [
    "x_train"
   ]
  },
  {
   "cell_type": "code",
   "execution_count": 22,
   "metadata": {},
   "outputs": [
    {
     "data": {
      "text/plain": [
       "116    0\n",
       "28     0\n",
       "137    0\n",
       "557    1\n",
       "26     0\n",
       "      ..\n",
       "277    0\n",
       "513    1\n",
       "127    0\n",
       "352    1\n",
       "465    1\n",
       "Name: fake, Length: 487, dtype: int64"
      ]
     },
     "execution_count": 22,
     "metadata": {},
     "output_type": "execute_result"
    }
   ],
   "source": [
    "y_train"
   ]
  },
  {
   "cell_type": "code",
   "execution_count": 33,
   "metadata": {},
   "outputs": [
    {
     "name": "stdout",
     "output_type": "stream",
     "text": [
      "The accuracy obtained by the logistic regression is :\n",
      "0.8995215311004785\n",
      "The classification report for logistic regression is as follow:\n",
      "              precision    recall  f1-score   support\n",
      "\n",
      "           0       0.91      0.89      0.90       105\n",
      "           1       0.89      0.91      0.90       104\n",
      "\n",
      "    accuracy                           0.90       209\n",
      "   macro avg       0.90      0.90      0.90       209\n",
      "weighted avg       0.90      0.90      0.90       209\n",
      "\n"
     ]
    },
    {
     "name": "stderr",
     "output_type": "stream",
     "text": [
      "c:\\Program Files\\Python36\\lib\\site-packages\\sklearn\\linear_model\\_logistic.py:765: ConvergenceWarning: lbfgs failed to converge (status=1):\n",
      "STOP: TOTAL NO. of ITERATIONS REACHED LIMIT.\n",
      "\n",
      "Increase the number of iterations (max_iter) or scale the data as shown in:\n",
      "    https://scikit-learn.org/stable/modules/preprocessing.html\n",
      "Please also refer to the documentation for alternative solver options:\n",
      "    https://scikit-learn.org/stable/modules/linear_model.html#logistic-regression\n",
      "  extra_warning_msg=_LOGISTIC_SOLVER_CONVERGENCE_MSG)\n"
     ]
    }
   ],
   "source": [
    "from sklearn.metrics import accuracy_score,classification_report\n",
    "lr = LogisticRegression()\n",
    "lr=lr.fit(x_train,y_train)\n",
    "y_pred = lr.predict(x_test)\n",
    "acc = accuracy_score(y_test,y_pred)\n",
    "print('The accuracy obtained by the logistic regression is :')\n",
    "print(acc)\n",
    "report = classification_report(y_test,y_pred)\n",
    "print('The classification report for logistic regression is as follow:')\n",
    "print(report)"
   ]
  },
  {
   "cell_type": "code",
   "execution_count": 35,
   "metadata": {},
   "outputs": [
    {
     "name": "stdout",
     "output_type": "stream",
     "text": [
      "[0]\n",
      "The account is real\n"
     ]
    }
   ],
   "source": [
    "abc = [[1,0.00,1,0.00,0,0,0,0,114,490,1093]]\n",
    "result = lr.predict(abc)\n",
    "print(result)\n",
    "if result==[0]:\n",
    "    print('The account is real')\n",
    "else:\n",
    "    print('The account is fake')"
   ]
  },
  {
   "cell_type": "code",
   "execution_count": 36,
   "metadata": {},
   "outputs": [
    {
     "name": "stdout",
     "output_type": "stream",
     "text": [
      "[1]\n",
      "The account is fake\n"
     ]
    }
   ],
   "source": [
    "abc = [[1,0.43,\t1,\t0.43,\t0\t,0,\t0,\t0\t,0,\t72,\t434]]\n",
    "result = lr.predict(abc)\n",
    "print(result)\n",
    "if result==[0]:\n",
    "    print('The account is real')\n",
    "else:\n",
    "    print('The account is fake')"
   ]
  },
  {
   "cell_type": "code",
   "execution_count": 37,
   "metadata": {},
   "outputs": [],
   "source": [
    "import pickle\n",
    "filename = 'Logistic_Regression.sav'\n",
    "pickle.dump(lr, open(filename, 'wb'))\n"
   ]
  },
  {
   "cell_type": "code",
   "execution_count": 39,
   "metadata": {},
   "outputs": [
    {
     "name": "stdout",
     "output_type": "stream",
     "text": [
      "The accuracy obtained by the Decision Tree Classifier is :\n",
      "0.8947368421052632\n",
      "The classification report for Decision Tree Classifier is as follow:\n",
      "              precision    recall  f1-score   support\n",
      "\n",
      "           0       0.86      0.94      0.90       105\n",
      "           1       0.94      0.85      0.89       104\n",
      "\n",
      "    accuracy                           0.89       209\n",
      "   macro avg       0.90      0.89      0.89       209\n",
      "weighted avg       0.90      0.89      0.89       209\n",
      "\n"
     ]
    }
   ],
   "source": [
    "from sklearn.metrics import accuracy_score,classification_report\n",
    "dt = DecisionTreeClassifier()\n",
    "dt=dt.fit(x_train,y_train)\n",
    "y_pred = dt.predict(x_test)\n",
    "acc = accuracy_score(y_test,y_pred)\n",
    "print('The accuracy obtained by the Decision Tree Classifier is :')\n",
    "print(acc)\n",
    "report = classification_report(y_test,y_pred)\n",
    "print('The classification report for Decision Tree Classifier is as follow:')\n",
    "print(report)"
   ]
  },
  {
   "cell_type": "code",
   "execution_count": 43,
   "metadata": {},
   "outputs": [
    {
     "name": "stdout",
     "output_type": "stream",
     "text": [
      "[0]\n",
      "The account is real\n"
     ]
    }
   ],
   "source": [
    "abc = [[1,0.00,1,0.00,0,0,0,0,114,490,1093]]\n",
    "result = dt.predict(abc)\n",
    "print(result)\n",
    "if result==[0]:\n",
    "    print('The account is real')\n",
    "else:\n",
    "    print('The account is fake')"
   ]
  },
  {
   "cell_type": "code",
   "execution_count": 44,
   "metadata": {},
   "outputs": [
    {
     "name": "stdout",
     "output_type": "stream",
     "text": [
      "[1]\n",
      "The account is fake\n"
     ]
    }
   ],
   "source": [
    "abc = [[1,0.43,\t1,\t0.43,\t0\t,0,\t0,\t0\t,0,\t72,\t434]]\n",
    "result = dt.predict(abc)\n",
    "print(result)\n",
    "if result==[0]:\n",
    "    print('The account is real')\n",
    "else:\n",
    "    print('The account is fake')"
   ]
  },
  {
   "cell_type": "code",
   "execution_count": 41,
   "metadata": {},
   "outputs": [],
   "source": [
    "filename = 'Decision_tree.sav'\n",
    "pickle.dump(dt, open(filename, 'wb'))"
   ]
  },
  {
   "cell_type": "code",
   "execution_count": 40,
   "metadata": {},
   "outputs": [
    {
     "name": "stdout",
     "output_type": "stream",
     "text": [
      "The accuracy obtained by the Random Forest Classifier is :\n",
      "0.9186602870813397\n",
      "The classification report for Random Forest Classifier is as follow:\n",
      "              precision    recall  f1-score   support\n",
      "\n",
      "           0       0.92      0.92      0.92       105\n",
      "           1       0.92      0.91      0.92       104\n",
      "\n",
      "    accuracy                           0.92       209\n",
      "   macro avg       0.92      0.92      0.92       209\n",
      "weighted avg       0.92      0.92      0.92       209\n",
      "\n"
     ]
    }
   ],
   "source": [
    "from sklearn.metrics import accuracy_score,classification_report\n",
    "rf = RandomForestClassifier()\n",
    "rf=rf.fit(x_train,y_train)\n",
    "y_pred = rf.predict(x_test)\n",
    "acc = accuracy_score(y_test,y_pred)\n",
    "print('The accuracy obtained by the Random Forest Classifier is :')\n",
    "print(acc)\n",
    "report = classification_report(y_test,y_pred)\n",
    "print('The classification report for Random Forest Classifier is as follow:')\n",
    "print(report)"
   ]
  },
  {
   "cell_type": "code",
   "execution_count": 42,
   "metadata": {},
   "outputs": [],
   "source": [
    "filename = 'Random_forest.sav'\n",
    "pickle.dump(rf, open(filename, 'wb'))"
   ]
  },
  {
   "cell_type": "code",
   "execution_count": 45,
   "metadata": {},
   "outputs": [
    {
     "name": "stdout",
     "output_type": "stream",
     "text": [
      "[1]\n",
      "The account is fake\n"
     ]
    }
   ],
   "source": [
    "abc = [[1,0.43,\t1,\t0.43,\t0\t,0,\t0,\t0\t,0,\t72,\t434]]\n",
    "result = rf.predict(abc)\n",
    "print(result)\n",
    "if result==[0]:\n",
    "    print('The account is real')\n",
    "else:\n",
    "    print('The account is fake')"
   ]
  },
  {
   "cell_type": "code",
   "execution_count": 48,
   "metadata": {},
   "outputs": [
    {
     "name": "stdout",
     "output_type": "stream",
     "text": [
      "[0]\n",
      "The account is real\n"
     ]
    }
   ],
   "source": [
    "abc = [[1,0.00,1,0.00,0,0,0,0,114,490,1093]]\n",
    "result = rf.predict(abc)\n",
    "print(result)\n",
    "if result==[0]:\n",
    "    print('The account is real')\n",
    "else:\n",
    "    print('The account is fake')"
   ]
  },
  {
   "cell_type": "code",
   "execution_count": null,
   "metadata": {},
   "outputs": [],
   "source": []
  }
 ],
 "metadata": {
  "kernelspec": {
   "display_name": "Python 3.6.8 64-bit",
   "language": "python",
   "name": "python3"
  },
  "language_info": {
   "codemirror_mode": {
    "name": "ipython",
    "version": 3
   },
   "file_extension": ".py",
   "mimetype": "text/x-python",
   "name": "python",
   "nbconvert_exporter": "python",
   "pygments_lexer": "ipython3",
   "version": "3.6.8"
  },
  "orig_nbformat": 4,
  "vscode": {
   "interpreter": {
    "hash": "f4e9cda46bb2d9d7fe6ecdff0f8336a934348bf06cb492f2f42f60739b3403b4"
   }
  }
 },
 "nbformat": 4,
 "nbformat_minor": 2
}
